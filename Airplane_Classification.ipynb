{
  "nbformat": 4,
  "nbformat_minor": 0,
  "metadata": {
    "colab": {
      "name": "Airplane Classification.ipynb",
      "provenance": [],
      "collapsed_sections": [],
      "mount_file_id": "16rBnl3PfU0A9g8tTZWMiRzNLv5IbZ0ad",
      "authorship_tag": "ABX9TyNAgh6Pjx0dpR2eFRC3oD+3",
      "include_colab_link": true
    },
    "kernelspec": {
      "display_name": "Python 3",
      "name": "python3"
    },
    "language_info": {
      "name": "python"
    }
  },
  "cells": [
    {
      "cell_type": "markdown",
      "metadata": {
        "id": "view-in-github",
        "colab_type": "text"
      },
      "source": [
        "<a href=\"https://colab.research.google.com/github/divyam123-EECS-Physics/Airplane-Classifier/blob/main/Airplane_Classification.ipynb\" target=\"_parent\"><img src=\"https://colab.research.google.com/assets/colab-badge.svg\" alt=\"Open In Colab\"/></a>"
      ]
    },
    {
      "cell_type": "code",
      "metadata": {
        "id": "VtBF_RKYzLOM"
      },
      "source": [
        "#!pip install tensorflow-gpu"
      ],
      "execution_count": null,
      "outputs": []
    },
    {
      "cell_type": "code",
      "metadata": {
        "id": "pYhuN7mK2hNQ"
      },
      "source": [
        "import pandas as pd\n",
        "import numpy as np\n",
        "import os"
      ],
      "execution_count": null,
      "outputs": []
    },
    {
      "cell_type": "code",
      "metadata": {
        "colab": {
          "base_uri": "https://localhost:8080/"
        },
        "id": "qxxqg6hM9D2e",
        "outputId": "52ebb397-ea92-42ac-94e8-eb2cdbcc1f68"
      },
      "source": [
        "from google.colab import drive\n",
        "drive.mount('/content/drive')"
      ],
      "execution_count": null,
      "outputs": [
        {
          "output_type": "stream",
          "text": [
            "Drive already mounted at /content/drive; to attempt to forcibly remount, call drive.mount(\"/content/drive\", force_remount=True).\n"
          ],
          "name": "stdout"
        }
      ]
    },
    {
      "cell_type": "code",
      "metadata": {
        "id": "KRvvTFjDQ_gx"
      },
      "source": [
        "main_folder_path = '/content/drive/MyDrive/PlaneProjectt'"
      ],
      "execution_count": null,
      "outputs": []
    },
    {
      "cell_type": "code",
      "metadata": {
        "id": "-GfLhnB7SvPw"
      },
      "source": [
        "df = pd.DataFrame(columns = ['File_Path', 'label'])\n"
      ],
      "execution_count": null,
      "outputs": []
    },
    {
      "cell_type": "code",
      "metadata": {
        "id": "sYK8YkSjTE-B"
      },
      "source": [
        "labels = os.listdir(main_folder_path) "
      ],
      "execution_count": null,
      "outputs": []
    },
    {
      "cell_type": "code",
      "metadata": {
        "id": "BCpLovjRYpws"
      },
      "source": [
        "for label in labels:\n",
        "  img_folder = main_folder_path + '/' + label\n",
        "  if img_folder[-3:] != 'csv' :\n",
        "    images = os.listdir(img_folder) \n",
        "    images_file_list = [img_folder + '/' + img for img in images if ((img != '.DS_Store') and (img != '.ipynb_checkpoints'))]\n",
        "    df = df.append(pd.DataFrame({'File_Path':images_file_list, 'label':label}))"
      ],
      "execution_count": null,
      "outputs": []
    },
    {
      "cell_type": "code",
      "metadata": {
        "colab": {
          "base_uri": "https://localhost:8080/",
          "height": 419
        },
        "id": "gezqoj-kj7K5",
        "outputId": "fb7f3c09-4057-42eb-8225-a4093ef28eaf"
      },
      "source": [
        "df"
      ],
      "execution_count": null,
      "outputs": [
        {
          "output_type": "execute_result",
          "data": {
            "text/html": [
              "<div>\n",
              "<style scoped>\n",
              "    .dataframe tbody tr th:only-of-type {\n",
              "        vertical-align: middle;\n",
              "    }\n",
              "\n",
              "    .dataframe tbody tr th {\n",
              "        vertical-align: top;\n",
              "    }\n",
              "\n",
              "    .dataframe thead th {\n",
              "        text-align: right;\n",
              "    }\n",
              "</style>\n",
              "<table border=\"1\" class=\"dataframe\">\n",
              "  <thead>\n",
              "    <tr style=\"text-align: right;\">\n",
              "      <th></th>\n",
              "      <th>File_Path</th>\n",
              "      <th>label</th>\n",
              "    </tr>\n",
              "  </thead>\n",
              "  <tbody>\n",
              "    <tr>\n",
              "      <th>0</th>\n",
              "      <td>/content/drive/MyDrive/PlaneProjectt/f16/f1672...</td>\n",
              "      <td>f16</td>\n",
              "    </tr>\n",
              "    <tr>\n",
              "      <th>1</th>\n",
              "      <td>/content/drive/MyDrive/PlaneProjectt/f16/f1674...</td>\n",
              "      <td>f16</td>\n",
              "    </tr>\n",
              "    <tr>\n",
              "      <th>2</th>\n",
              "      <td>/content/drive/MyDrive/PlaneProjectt/f16/f1677...</td>\n",
              "      <td>f16</td>\n",
              "    </tr>\n",
              "    <tr>\n",
              "      <th>3</th>\n",
              "      <td>/content/drive/MyDrive/PlaneProjectt/f16/f1671...</td>\n",
              "      <td>f16</td>\n",
              "    </tr>\n",
              "    <tr>\n",
              "      <th>4</th>\n",
              "      <td>/content/drive/MyDrive/PlaneProjectt/f16/f1675...</td>\n",
              "      <td>f16</td>\n",
              "    </tr>\n",
              "    <tr>\n",
              "      <th>...</th>\n",
              "      <td>...</td>\n",
              "      <td>...</td>\n",
              "    </tr>\n",
              "    <tr>\n",
              "      <th>191</th>\n",
              "      <td>/content/drive/MyDrive/PlaneProjectt/f15/f1524...</td>\n",
              "      <td>f15</td>\n",
              "    </tr>\n",
              "    <tr>\n",
              "      <th>192</th>\n",
              "      <td>/content/drive/MyDrive/PlaneProjectt/f15/f1525...</td>\n",
              "      <td>f15</td>\n",
              "    </tr>\n",
              "    <tr>\n",
              "      <th>193</th>\n",
              "      <td>/content/drive/MyDrive/PlaneProjectt/f15/f1525...</td>\n",
              "      <td>f15</td>\n",
              "    </tr>\n",
              "    <tr>\n",
              "      <th>194</th>\n",
              "      <td>/content/drive/MyDrive/PlaneProjectt/f15/f1524...</td>\n",
              "      <td>f15</td>\n",
              "    </tr>\n",
              "    <tr>\n",
              "      <th>195</th>\n",
              "      <td>/content/drive/MyDrive/PlaneProjectt/f15/f1524...</td>\n",
              "      <td>f15</td>\n",
              "    </tr>\n",
              "  </tbody>\n",
              "</table>\n",
              "<p>1973 rows × 2 columns</p>\n",
              "</div>"
            ],
            "text/plain": [
              "                                             File_Path label\n",
              "0    /content/drive/MyDrive/PlaneProjectt/f16/f1672...   f16\n",
              "1    /content/drive/MyDrive/PlaneProjectt/f16/f1674...   f16\n",
              "2    /content/drive/MyDrive/PlaneProjectt/f16/f1677...   f16\n",
              "3    /content/drive/MyDrive/PlaneProjectt/f16/f1671...   f16\n",
              "4    /content/drive/MyDrive/PlaneProjectt/f16/f1675...   f16\n",
              "..                                                 ...   ...\n",
              "191  /content/drive/MyDrive/PlaneProjectt/f15/f1524...   f15\n",
              "192  /content/drive/MyDrive/PlaneProjectt/f15/f1525...   f15\n",
              "193  /content/drive/MyDrive/PlaneProjectt/f15/f1525...   f15\n",
              "194  /content/drive/MyDrive/PlaneProjectt/f15/f1524...   f15\n",
              "195  /content/drive/MyDrive/PlaneProjectt/f15/f1524...   f15\n",
              "\n",
              "[1973 rows x 2 columns]"
            ]
          },
          "metadata": {},
          "execution_count": 8
        }
      ]
    },
    {
      "cell_type": "code",
      "metadata": {
        "colab": {
          "base_uri": "https://localhost:8080/"
        },
        "id": "4QC5hj5OZC-z",
        "outputId": "5ba4dac6-0c24-4928-c1cf-7fe0879e2193"
      },
      "source": [
        "\n",
        "df.label.unique().tolist()"
      ],
      "execution_count": null,
      "outputs": [
        {
          "output_type": "execute_result",
          "data": {
            "text/plain": [
              "['f16', 'f18', 'f22', 'rafale', 'f35', 'mig29', 'p51', 'f15']"
            ]
          },
          "metadata": {},
          "execution_count": 9
        }
      ]
    },
    {
      "cell_type": "code",
      "metadata": {
        "id": "XHD2ZTDJalpd"
      },
      "source": [
        "import seaborn as sns\n",
        "import matplotlib.pyplot as plt"
      ],
      "execution_count": null,
      "outputs": []
    },
    {
      "cell_type": "code",
      "metadata": {
        "colab": {
          "base_uri": "https://localhost:8080/"
        },
        "id": "FLNwgz-0kBDr",
        "outputId": "d309fd2b-e169-4fde-d188-ff28857bc044"
      },
      "source": [
        "a = plt.imread(df['File_Path'].iloc[0])\n",
        "type(a)"
      ],
      "execution_count": null,
      "outputs": [
        {
          "output_type": "execute_result",
          "data": {
            "text/plain": [
              "numpy.ndarray"
            ]
          },
          "metadata": {},
          "execution_count": 11
        }
      ]
    },
    {
      "cell_type": "code",
      "metadata": {
        "colab": {
          "base_uri": "https://localhost:8080/",
          "height": 351
        },
        "id": "eIqK_jh3cEHy",
        "outputId": "1bf26c3a-4c24-4c49-8c75-e77a5297eb53"
      },
      "source": [
        "plt.figure(figsize = (18,5))\n",
        "sns.countplot(data = df, x = 'label')"
      ],
      "execution_count": null,
      "outputs": [
        {
          "output_type": "execute_result",
          "data": {
            "text/plain": [
              "<matplotlib.axes._subplots.AxesSubplot at 0x7f800100a710>"
            ]
          },
          "metadata": {},
          "execution_count": 12
        },
        {
          "output_type": "display_data",
          "data": {
            "image/png": "[encoded data removed]",
            "text/plain": [
              "<Figure size 1296x360 with 1 Axes>"
            ]
          },
          "metadata": {
            "needs_background": "light"
          }
        }
      ]
    },
    {
      "cell_type": "code",
      "metadata": {
        "id": "x5S5l_RmcJmP"
      },
      "source": [
        "# we see that the classes have a uniform distribution"
      ],
      "execution_count": null,
      "outputs": []
    },
    {
      "cell_type": "code",
      "metadata": {
        "id": "im4n-jeUf7OO"
      },
      "source": [
        "import cv2"
      ],
      "execution_count": null,
      "outputs": []
    },
    {
      "cell_type": "code",
      "metadata": {
        "id": "bBzphyS5uRBu"
      },
      "source": [
        "def gray_cvt(img):\n",
        "    return cv2.cvtColor(img, cv2.COLOR_RGB2GRAY)"
      ],
      "execution_count": null,
      "outputs": []
    },
    {
      "cell_type": "code",
      "metadata": {
        "id": "j6N7oWyLddDy"
      },
      "source": [
        "from sklearn.model_selection import train_test_split"
      ],
      "execution_count": null,
      "outputs": []
    },
    {
      "cell_type": "code",
      "metadata": {
        "id": "93qk2hmsezHC"
      },
      "source": [
        "X_train, X_test, y_train, y_test = train_test_split(df['File_Path'], df['label'], test_size=0.2, random_state=42)"
      ],
      "execution_count": null,
      "outputs": []
    },
    {
      "cell_type": "code",
      "metadata": {
        "colab": {
          "base_uri": "https://localhost:8080/",
          "height": 351
        },
        "id": "7yfmep6XfhKC",
        "outputId": "98ceebe5-ec14-4924-cb57-3a88e671231c"
      },
      "source": [
        "plt.figure(figsize = (18,5))\n",
        " \n",
        "sns.countplot(data = pd.DataFrame(y_train), x = 'label')"
      ],
      "execution_count": null,
      "outputs": [
        {
          "output_type": "execute_result",
          "data": {
            "text/plain": [
              "<matplotlib.axes._subplots.AxesSubplot at 0x7f7febc16090>"
            ]
          },
          "metadata": {},
          "execution_count": 18
        },
        {
          "output_type": "display_data",
          "data": {
            "image/png": "[encoded data removed]",
            "text/plain": [
              "<Figure size 1296x360 with 1 Axes>"
            ]
          },
          "metadata": {
            "needs_background": "light"
          }
        }
      ]
    },
    {
      "cell_type": "code",
      "metadata": {
        "id": "b5G5CeaMfw6d"
      },
      "source": [
        "X_train_flow_df = pd.concat([X_train, y_train], axis = 1)\n",
        "X_test_flow_df = pd.concat([X_test, y_test], axis = 1)\n"
      ],
      "execution_count": null,
      "outputs": []
    },
    {
      "cell_type": "code",
      "metadata": {
        "colab": {
          "base_uri": "https://localhost:8080/"
        },
        "id": "bCLQCwL5nD_H",
        "outputId": "095f8053-893c-4319-82e4-2ef7b9c02511"
      },
      "source": [
        "X_train_flow_df.columns"
      ],
      "execution_count": null,
      "outputs": [
        {
          "output_type": "execute_result",
          "data": {
            "text/plain": [
              "Index(['File_Path', 'label'], dtype='object')"
            ]
          },
          "metadata": {},
          "execution_count": 20
        }
      ]
    },
    {
      "cell_type": "code",
      "metadata": {
        "id": "O3w8JdLhgqNE"
      },
      "source": [
        "from sklearn.preprocessing import OneHotEncoder"
      ],
      "execution_count": null,
      "outputs": []
    },
    {
      "cell_type": "code",
      "metadata": {
        "id": "A3OakTQvxvTq"
      },
      "source": [
        "ohe = OneHotEncoder()"
      ],
      "execution_count": null,
      "outputs": []
    },
    {
      "cell_type": "code",
      "metadata": {
        "id": "gvi4HtNOxzld"
      },
      "source": [
        "y_train_ohe = ohe.fit_transform(y_train.values.reshape(y_train.values.shape[0],1))"
      ],
      "execution_count": null,
      "outputs": []
    },
    {
      "cell_type": "code",
      "metadata": {
        "colab": {
          "base_uri": "https://localhost:8080/"
        },
        "id": "ttwj8noye-PV",
        "outputId": "bc286752-847a-4460-d573-7d048c0f40bf"
      },
      "source": [
        "ohe.categories_"
      ],
      "execution_count": null,
      "outputs": [
        {
          "output_type": "execute_result",
          "data": {
            "text/plain": [
              "[array(['f15', 'f16', 'f18', 'f22', 'f35', 'mig29', 'p51', 'rafale'],\n",
              "       dtype=object)]"
            ]
          },
          "metadata": {},
          "execution_count": 24
        }
      ]
    },
    {
      "cell_type": "code",
      "metadata": {
        "id": "-y_8XRQs0LgA"
      },
      "source": [
        "y_test_ohe = ohe.transform(y_test.values.reshape(y_test.values.shape[0],1))"
      ],
      "execution_count": null,
      "outputs": []
    },
    {
      "cell_type": "code",
      "metadata": {
        "id": "SP0NM3lM1kdW"
      },
      "source": [
        "# ListOfX = []\n",
        "# ListOfY = []\n",
        "# counter = 0 \n",
        "# for i in X_train.values.tolist():\n",
        "#   img = plt.imread(i)\n",
        "#   x, y, _ = img.shape\n",
        "#   counter += 1\n",
        "#   print(counter)\n",
        "#   ListOfX.append(x)\n",
        "#   ListOfY.append(y)\n"
      ],
      "execution_count": null,
      "outputs": []
    },
    {
      "cell_type": "code",
      "metadata": {
        "id": "2y6l7XRZ2zqW"
      },
      "source": [
        "# sns.jointplot(x = ListOfX, y = ListOfY)"
      ],
      "execution_count": null,
      "outputs": []
    },
    {
      "cell_type": "code",
      "metadata": {
        "id": "UL4s_E3o5vmq"
      },
      "source": [
        "# int(np.median(ListOfX)),np.median(ListOfY)"
      ],
      "execution_count": null,
      "outputs": []
    },
    {
      "cell_type": "code",
      "metadata": {
        "id": "u0jSivbWr36G"
      },
      "source": [
        "input_shape = (224, 224, 3)#(int(np.median(ListOfX)),int(np.median(ListOfY)),3)\n"
      ],
      "execution_count": null,
      "outputs": []
    },
    {
      "cell_type": "code",
      "metadata": {
        "id": "1onke5Lu5_2l"
      },
      "source": [
        "from tensorflow import keras\n",
        "from tensorflow.keras.preprocessing.image import ImageDataGenerator"
      ],
      "execution_count": null,
      "outputs": []
    },
    {
      "cell_type": "code",
      "metadata": {
        "id": "TeivmVN-p7W7"
      },
      "source": [
        "from tensorflow.keras.models import Sequential\n",
        "from tensorflow.keras.layers import Dense, Conv2D, MaxPool2D, Flatten, Dropout"
      ],
      "execution_count": null,
      "outputs": []
    },
    {
      "cell_type": "code",
      "metadata": {
        "id": "Sc3Cmc_Dp79W"
      },
      "source": [
        "from keras.layers import Input, Lambda, Dense, Flatten, Dropout\n",
        "from keras.models import Model\n",
        "from keras.applications.xception import Xception\n",
        "from keras.applications.vgg16 import preprocess_input\n",
        "from keras.preprocessing import image"
      ],
      "execution_count": null,
      "outputs": []
    },
    {
      "cell_type": "code",
      "metadata": {
        "id": "tVJcoZIh8LBL"
      },
      "source": [
        " \n",
        " \n",
        "# train_datagen = ImageDataGenerator( horizontal_flip=True,\n",
        "#                                     vertical_flip=True,\n",
        "#                                     rotation_range=10,\n",
        "#                                     width_shift_range=0.1,\n",
        "#                                     height_shift_range=0.1,\n",
        "#                                     zoom_range=.1,\n",
        "#                                     fill_mode='nearest',  \n",
        "#                                     shear_range=0.1,\n",
        "#                                     rescale=1/255,\n",
        "#                                     brightness_range=[0.5, 1.5])\n",
        " \n",
        " \n",
        " \n",
        "image_gen = ImageDataGenerator(rotation_range=20, # rotate the image 20 degrees\n",
        "                               width_shift_range=0.10, # Shift the pic width by a max of 5%\n",
        "                               height_shift_range=0.10, # Shift the pic height by a max of 5%\n",
        "                               rescale=1/255, # Rescale the image by normalzing it.\n",
        "                               shear_range=0.1, # Shear means cutting away part of the image (max 10%)\n",
        "                               zoom_range=0.1, # Zoom in by 10% max\n",
        "                               horizontal_flip=True, # Allo horizontal flipping\n",
        "                               fill_mode='nearest', # Fill in missing pixels with the nearest filled value\n",
        "                               validation_split=0.2,\n",
        "                               preprocessing_function = None#gray_cvt\n",
        "                              )"
      ],
      "execution_count": null,
      "outputs": []
    },
    {
      "cell_type": "code",
      "metadata": {
        "colab": {
          "base_uri": "https://localhost:8080/"
        },
        "id": "6d4vmC8amyxQ",
        "outputId": "2df306a9-536a-426d-b60e-7b12be95ad3d"
      },
      "source": [
        "Xception(input_shape=(224, 224, 3), weights='imagenet', include_top=False).summary()\n"
      ],
      "execution_count": null,
      "outputs": [
        {
          "output_type": "stream",
          "text": [
            "Model: \"xception\"\n",
            "__________________________________________________________________________________________________\n",
            "Layer (type)                    Output Shape         Param #     Connected to                     \n",
            "==================================================================================================\n",
            "input_1 (InputLayer)            [(None, 224, 224, 3) 0                                            \n",
            "__________________________________________________________________________________________________\n",
            "block1_conv1 (Conv2D)           (None, 111, 111, 32) 864         input_1[0][0]                    \n",
            "__________________________________________________________________________________________________\n",
            "block1_conv1_bn (BatchNormaliza (None, 111, 111, 32) 128         block1_conv1[0][0]               \n",
            "__________________________________________________________________________________________________\n",
            "block1_conv1_act (Activation)   (None, 111, 111, 32) 0           block1_conv1_bn[0][0]            \n",
            "__________________________________________________________________________________________________\n",
            "block1_conv2 (Conv2D)           (None, 109, 109, 64) 18432       block1_conv1_act[0][0]           \n",
            "__________________________________________________________________________________________________\n",
            "block1_conv2_bn (BatchNormaliza (None, 109, 109, 64) 256         block1_conv2[0][0]               \n",
            "__________________________________________________________________________________________________\n",
            "block1_conv2_act (Activation)   (None, 109, 109, 64) 0           block1_conv2_bn[0][0]            \n",
            "__________________________________________________________________________________________________\n",
            "block2_sepconv1 (SeparableConv2 (None, 109, 109, 128 8768        block1_conv2_act[0][0]           \n",
            "__________________________________________________________________________________________________\n",
            "block2_sepconv1_bn (BatchNormal (None, 109, 109, 128 512         block2_sepconv1[0][0]            \n",
            "__________________________________________________________________________________________________\n",
            "block2_sepconv2_act (Activation (None, 109, 109, 128 0           block2_sepconv1_bn[0][0]         \n",
            "__________________________________________________________________________________________________\n",
            "block2_sepconv2 (SeparableConv2 (None, 109, 109, 128 17536       block2_sepconv2_act[0][0]        \n",
            "__________________________________________________________________________________________________\n",
            "block2_sepconv2_bn (BatchNormal (None, 109, 109, 128 512         block2_sepconv2[0][0]            \n",
            "__________________________________________________________________________________________________\n",
            "conv2d (Conv2D)                 (None, 55, 55, 128)  8192        block1_conv2_act[0][0]           \n",
            "__________________________________________________________________________________________________\n",
            "block2_pool (MaxPooling2D)      (None, 55, 55, 128)  0           block2_sepconv2_bn[0][0]         \n",
            "__________________________________________________________________________________________________\n",
            "batch_normalization (BatchNorma (None, 55, 55, 128)  512         conv2d[0][0]                     \n",
            "__________________________________________________________________________________________________\n",
            "add (Add)                       (None, 55, 55, 128)  0           block2_pool[0][0]                \n",
            "                                                                 batch_normalization[0][0]        \n",
            "__________________________________________________________________________________________________\n",
            "block3_sepconv1_act (Activation (None, 55, 55, 128)  0           add[0][0]                        \n",
            "__________________________________________________________________________________________________\n",
            "block3_sepconv1 (SeparableConv2 (None, 55, 55, 256)  33920       block3_sepconv1_act[0][0]        \n",
            "__________________________________________________________________________________________________\n",
            "block3_sepconv1_bn (BatchNormal (None, 55, 55, 256)  1024        block3_sepconv1[0][0]            \n",
            "__________________________________________________________________________________________________\n",
            "block3_sepconv2_act (Activation (None, 55, 55, 256)  0           block3_sepconv1_bn[0][0]         \n",
            "__________________________________________________________________________________________________\n",
            "block3_sepconv2 (SeparableConv2 (None, 55, 55, 256)  67840       block3_sepconv2_act[0][0]        \n",
            "__________________________________________________________________________________________________\n",
            "block3_sepconv2_bn (BatchNormal (None, 55, 55, 256)  1024        block3_sepconv2[0][0]            \n",
            "__________________________________________________________________________________________________\n",
            "conv2d_1 (Conv2D)               (None, 28, 28, 256)  32768       add[0][0]                        \n",
            "__________________________________________________________________________________________________\n",
            "block3_pool (MaxPooling2D)      (None, 28, 28, 256)  0           block3_sepconv2_bn[0][0]         \n",
            "__________________________________________________________________________________________________\n",
            "batch_normalization_1 (BatchNor (None, 28, 28, 256)  1024        conv2d_1[0][0]                   \n",
            "__________________________________________________________________________________________________\n",
            "add_1 (Add)                     (None, 28, 28, 256)  0           block3_pool[0][0]                \n",
            "                                                                 batch_normalization_1[0][0]      \n",
            "__________________________________________________________________________________________________\n",
            "block4_sepconv1_act (Activation (None, 28, 28, 256)  0           add_1[0][0]                      \n",
            "__________________________________________________________________________________________________\n",
            "block4_sepconv1 (SeparableConv2 (None, 28, 28, 728)  188672      block4_sepconv1_act[0][0]        \n",
            "__________________________________________________________________________________________________\n",
            "block4_sepconv1_bn (BatchNormal (None, 28, 28, 728)  2912        block4_sepconv1[0][0]            \n",
            "__________________________________________________________________________________________________\n",
            "block4_sepconv2_act (Activation (None, 28, 28, 728)  0           block4_sepconv1_bn[0][0]         \n",
            "__________________________________________________________________________________________________\n",
            "block4_sepconv2 (SeparableConv2 (None, 28, 28, 728)  536536      block4_sepconv2_act[0][0]        \n",
            "__________________________________________________________________________________________________\n",
            "block4_sepconv2_bn (BatchNormal (None, 28, 28, 728)  2912        block4_sepconv2[0][0]            \n",
            "__________________________________________________________________________________________________\n",
            "conv2d_2 (Conv2D)               (None, 14, 14, 728)  186368      add_1[0][0]                      \n",
            "__________________________________________________________________________________________________\n",
            "block4_pool (MaxPooling2D)      (None, 14, 14, 728)  0           block4_sepconv2_bn[0][0]         \n",
            "__________________________________________________________________________________________________\n",
            "batch_normalization_2 (BatchNor (None, 14, 14, 728)  2912        conv2d_2[0][0]                   \n",
            "__________________________________________________________________________________________________\n",
            "add_2 (Add)                     (None, 14, 14, 728)  0           block4_pool[0][0]                \n",
            "                                                                 batch_normalization_2[0][0]      \n",
            "__________________________________________________________________________________________________\n",
            "block5_sepconv1_act (Activation (None, 14, 14, 728)  0           add_2[0][0]                      \n",
            "__________________________________________________________________________________________________\n",
            "block5_sepconv1 (SeparableConv2 (None, 14, 14, 728)  536536      block5_sepconv1_act[0][0]        \n",
            "__________________________________________________________________________________________________\n",
            "block5_sepconv1_bn (BatchNormal (None, 14, 14, 728)  2912        block5_sepconv1[0][0]            \n",
            "__________________________________________________________________________________________________\n",
            "block5_sepconv2_act (Activation (None, 14, 14, 728)  0           block5_sepconv1_bn[0][0]         \n",
            "__________________________________________________________________________________________________\n",
            "block5_sepconv2 (SeparableConv2 (None, 14, 14, 728)  536536      block5_sepconv2_act[0][0]        \n",
            "__________________________________________________________________________________________________\n",
            "block5_sepconv2_bn (BatchNormal (None, 14, 14, 728)  2912        block5_sepconv2[0][0]            \n",
            "__________________________________________________________________________________________________\n",
            "block5_sepconv3_act (Activation (None, 14, 14, 728)  0           block5_sepconv2_bn[0][0]         \n",
            "__________________________________________________________________________________________________\n",
            "block5_sepconv3 (SeparableConv2 (None, 14, 14, 728)  536536      block5_sepconv3_act[0][0]        \n",
            "__________________________________________________________________________________________________\n",
            "block5_sepconv3_bn (BatchNormal (None, 14, 14, 728)  2912        block5_sepconv3[0][0]            \n",
            "__________________________________________________________________________________________________\n",
            "add_3 (Add)                     (None, 14, 14, 728)  0           block5_sepconv3_bn[0][0]         \n",
            "                                                                 add_2[0][0]                      \n",
            "__________________________________________________________________________________________________\n",
            "block6_sepconv1_act (Activation (None, 14, 14, 728)  0           add_3[0][0]                      \n",
            "__________________________________________________________________________________________________\n",
            "block6_sepconv1 (SeparableConv2 (None, 14, 14, 728)  536536      block6_sepconv1_act[0][0]        \n",
            "__________________________________________________________________________________________________\n",
            "block6_sepconv1_bn (BatchNormal (None, 14, 14, 728)  2912        block6_sepconv1[0][0]            \n",
            "__________________________________________________________________________________________________\n",
            "block6_sepconv2_act (Activation (None, 14, 14, 728)  0           block6_sepconv1_bn[0][0]         \n",
            "__________________________________________________________________________________________________\n",
            "block6_sepconv2 (SeparableConv2 (None, 14, 14, 728)  536536      block6_sepconv2_act[0][0]        \n",
            "__________________________________________________________________________________________________\n",
            "block6_sepconv2_bn (BatchNormal (None, 14, 14, 728)  2912        block6_sepconv2[0][0]            \n",
            "__________________________________________________________________________________________________\n",
            "block6_sepconv3_act (Activation (None, 14, 14, 728)  0           block6_sepconv2_bn[0][0]         \n",
            "__________________________________________________________________________________________________\n",
            "block6_sepconv3 (SeparableConv2 (None, 14, 14, 728)  536536      block6_sepconv3_act[0][0]        \n",
            "__________________________________________________________________________________________________\n",
            "block6_sepconv3_bn (BatchNormal (None, 14, 14, 728)  2912        block6_sepconv3[0][0]            \n",
            "__________________________________________________________________________________________________\n",
            "add_4 (Add)                     (None, 14, 14, 728)  0           block6_sepconv3_bn[0][0]         \n",
            "                                                                 add_3[0][0]                      \n",
            "__________________________________________________________________________________________________\n",
            "block7_sepconv1_act (Activation (None, 14, 14, 728)  0           add_4[0][0]                      \n",
            "__________________________________________________________________________________________________\n",
            "block7_sepconv1 (SeparableConv2 (None, 14, 14, 728)  536536      block7_sepconv1_act[0][0]        \n",
            "__________________________________________________________________________________________________\n",
            "block7_sepconv1_bn (BatchNormal (None, 14, 14, 728)  2912        block7_sepconv1[0][0]            \n",
            "__________________________________________________________________________________________________\n",
            "block7_sepconv2_act (Activation (None, 14, 14, 728)  0           block7_sepconv1_bn[0][0]         \n",
            "__________________________________________________________________________________________________\n",
            "block7_sepconv2 (SeparableConv2 (None, 14, 14, 728)  536536      block7_sepconv2_act[0][0]        \n",
            "__________________________________________________________________________________________________\n",
            "block7_sepconv2_bn (BatchNormal (None, 14, 14, 728)  2912        block7_sepconv2[0][0]            \n",
            "__________________________________________________________________________________________________\n",
            "block7_sepconv3_act (Activation (None, 14, 14, 728)  0           block7_sepconv2_bn[0][0]         \n",
            "__________________________________________________________________________________________________\n",
            "block7_sepconv3 (SeparableConv2 (None, 14, 14, 728)  536536      block7_sepconv3_act[0][0]        \n",
            "__________________________________________________________________________________________________\n",
            "block7_sepconv3_bn (BatchNormal (None, 14, 14, 728)  2912        block7_sepconv3[0][0]            \n",
            "__________________________________________________________________________________________________\n",
            "add_5 (Add)                     (None, 14, 14, 728)  0           block7_sepconv3_bn[0][0]         \n",
            "                                                                 add_4[0][0]                      \n",
            "__________________________________________________________________________________________________\n",
            "block8_sepconv1_act (Activation (None, 14, 14, 728)  0           add_5[0][0]                      \n",
            "__________________________________________________________________________________________________\n",
            "block8_sepconv1 (SeparableConv2 (None, 14, 14, 728)  536536      block8_sepconv1_act[0][0]        \n",
            "__________________________________________________________________________________________________\n",
            "block8_sepconv1_bn (BatchNormal (None, 14, 14, 728)  2912        block8_sepconv1[0][0]            \n",
            "__________________________________________________________________________________________________\n",
            "block8_sepconv2_act (Activation (None, 14, 14, 728)  0           block8_sepconv1_bn[0][0]         \n",
            "__________________________________________________________________________________________________\n",
            "block8_sepconv2 (SeparableConv2 (None, 14, 14, 728)  536536      block8_sepconv2_act[0][0]        \n",
            "__________________________________________________________________________________________________\n",
            "block8_sepconv2_bn (BatchNormal (None, 14, 14, 728)  2912        block8_sepconv2[0][0]            \n",
            "__________________________________________________________________________________________________\n",
            "block8_sepconv3_act (Activation (None, 14, 14, 728)  0           block8_sepconv2_bn[0][0]         \n",
            "__________________________________________________________________________________________________\n",
            "block8_sepconv3 (SeparableConv2 (None, 14, 14, 728)  536536      block8_sepconv3_act[0][0]        \n",
            "__________________________________________________________________________________________________\n",
            "block8_sepconv3_bn (BatchNormal (None, 14, 14, 728)  2912        block8_sepconv3[0][0]            \n",
            "__________________________________________________________________________________________________\n",
            "add_6 (Add)                     (None, 14, 14, 728)  0           block8_sepconv3_bn[0][0]         \n",
            "                                                                 add_5[0][0]                      \n",
            "__________________________________________________________________________________________________\n",
            "block9_sepconv1_act (Activation (None, 14, 14, 728)  0           add_6[0][0]                      \n",
            "__________________________________________________________________________________________________\n",
            "block9_sepconv1 (SeparableConv2 (None, 14, 14, 728)  536536      block9_sepconv1_act[0][0]        \n",
            "__________________________________________________________________________________________________\n",
            "block9_sepconv1_bn (BatchNormal (None, 14, 14, 728)  2912        block9_sepconv1[0][0]            \n",
            "__________________________________________________________________________________________________\n",
            "block9_sepconv2_act (Activation (None, 14, 14, 728)  0           block9_sepconv1_bn[0][0]         \n",
            "__________________________________________________________________________________________________\n",
            "block9_sepconv2 (SeparableConv2 (None, 14, 14, 728)  536536      block9_sepconv2_act[0][0]        \n",
            "__________________________________________________________________________________________________\n",
            "block9_sepconv2_bn (BatchNormal (None, 14, 14, 728)  2912        block9_sepconv2[0][0]            \n",
            "__________________________________________________________________________________________________\n",
            "block9_sepconv3_act (Activation (None, 14, 14, 728)  0           block9_sepconv2_bn[0][0]         \n",
            "__________________________________________________________________________________________________\n",
            "block9_sepconv3 (SeparableConv2 (None, 14, 14, 728)  536536      block9_sepconv3_act[0][0]        \n",
            "__________________________________________________________________________________________________\n",
            "block9_sepconv3_bn (BatchNormal (None, 14, 14, 728)  2912        block9_sepconv3[0][0]            \n",
            "__________________________________________________________________________________________________\n",
            "add_7 (Add)                     (None, 14, 14, 728)  0           block9_sepconv3_bn[0][0]         \n",
            "                                                                 add_6[0][0]                      \n",
            "__________________________________________________________________________________________________\n",
            "block10_sepconv1_act (Activatio (None, 14, 14, 728)  0           add_7[0][0]                      \n",
            "__________________________________________________________________________________________________\n",
            "block10_sepconv1 (SeparableConv (None, 14, 14, 728)  536536      block10_sepconv1_act[0][0]       \n",
            "__________________________________________________________________________________________________\n",
            "block10_sepconv1_bn (BatchNorma (None, 14, 14, 728)  2912        block10_sepconv1[0][0]           \n",
            "__________________________________________________________________________________________________\n",
            "block10_sepconv2_act (Activatio (None, 14, 14, 728)  0           block10_sepconv1_bn[0][0]        \n",
            "__________________________________________________________________________________________________\n",
            "block10_sepconv2 (SeparableConv (None, 14, 14, 728)  536536      block10_sepconv2_act[0][0]       \n",
            "__________________________________________________________________________________________________\n",
            "block10_sepconv2_bn (BatchNorma (None, 14, 14, 728)  2912        block10_sepconv2[0][0]           \n",
            "__________________________________________________________________________________________________\n",
            "block10_sepconv3_act (Activatio (None, 14, 14, 728)  0           block10_sepconv2_bn[0][0]        \n",
            "__________________________________________________________________________________________________\n",
            "block10_sepconv3 (SeparableConv (None, 14, 14, 728)  536536      block10_sepconv3_act[0][0]       \n",
            "__________________________________________________________________________________________________\n",
            "block10_sepconv3_bn (BatchNorma (None, 14, 14, 728)  2912        block10_sepconv3[0][0]           \n",
            "__________________________________________________________________________________________________\n",
            "add_8 (Add)                     (None, 14, 14, 728)  0           block10_sepconv3_bn[0][0]        \n",
            "                                                                 add_7[0][0]                      \n",
            "__________________________________________________________________________________________________\n",
            "block11_sepconv1_act (Activatio (None, 14, 14, 728)  0           add_8[0][0]                      \n",
            "__________________________________________________________________________________________________\n",
            "block11_sepconv1 (SeparableConv (None, 14, 14, 728)  536536      block11_sepconv1_act[0][0]       \n",
            "__________________________________________________________________________________________________\n",
            "block11_sepconv1_bn (BatchNorma (None, 14, 14, 728)  2912        block11_sepconv1[0][0]           \n",
            "__________________________________________________________________________________________________\n",
            "block11_sepconv2_act (Activatio (None, 14, 14, 728)  0           block11_sepconv1_bn[0][0]        \n",
            "__________________________________________________________________________________________________\n",
            "block11_sepconv2 (SeparableConv (None, 14, 14, 728)  536536      block11_sepconv2_act[0][0]       \n",
            "__________________________________________________________________________________________________\n",
            "block11_sepconv2_bn (BatchNorma (None, 14, 14, 728)  2912        block11_sepconv2[0][0]           \n",
            "__________________________________________________________________________________________________\n",
            "block11_sepconv3_act (Activatio (None, 14, 14, 728)  0           block11_sepconv2_bn[0][0]        \n",
            "__________________________________________________________________________________________________\n",
            "block11_sepconv3 (SeparableConv (None, 14, 14, 728)  536536      block11_sepconv3_act[0][0]       \n",
            "__________________________________________________________________________________________________\n",
            "block11_sepconv3_bn (BatchNorma (None, 14, 14, 728)  2912        block11_sepconv3[0][0]           \n",
            "__________________________________________________________________________________________________\n",
            "add_9 (Add)                     (None, 14, 14, 728)  0           block11_sepconv3_bn[0][0]        \n",
            "                                                                 add_8[0][0]                      \n",
            "__________________________________________________________________________________________________\n",
            "block12_sepconv1_act (Activatio (None, 14, 14, 728)  0           add_9[0][0]                      \n",
            "__________________________________________________________________________________________________\n",
            "block12_sepconv1 (SeparableConv (None, 14, 14, 728)  536536      block12_sepconv1_act[0][0]       \n",
            "__________________________________________________________________________________________________\n",
            "block12_sepconv1_bn (BatchNorma (None, 14, 14, 728)  2912        block12_sepconv1[0][0]           \n",
            "__________________________________________________________________________________________________\n",
            "block12_sepconv2_act (Activatio (None, 14, 14, 728)  0           block12_sepconv1_bn[0][0]        \n",
            "__________________________________________________________________________________________________\n",
            "block12_sepconv2 (SeparableConv (None, 14, 14, 728)  536536      block12_sepconv2_act[0][0]       \n",
            "__________________________________________________________________________________________________\n",
            "block12_sepconv2_bn (BatchNorma (None, 14, 14, 728)  2912        block12_sepconv2[0][0]           \n",
            "__________________________________________________________________________________________________\n",
            "block12_sepconv3_act (Activatio (None, 14, 14, 728)  0           block12_sepconv2_bn[0][0]        \n",
            "__________________________________________________________________________________________________\n",
            "block12_sepconv3 (SeparableConv (None, 14, 14, 728)  536536      block12_sepconv3_act[0][0]       \n",
            "__________________________________________________________________________________________________\n",
            "block12_sepconv3_bn (BatchNorma (None, 14, 14, 728)  2912        block12_sepconv3[0][0]           \n",
            "__________________________________________________________________________________________________\n",
            "add_10 (Add)                    (None, 14, 14, 728)  0           block12_sepconv3_bn[0][0]        \n",
            "                                                                 add_9[0][0]                      \n",
            "__________________________________________________________________________________________________\n",
            "block13_sepconv1_act (Activatio (None, 14, 14, 728)  0           add_10[0][0]                     \n",
            "__________________________________________________________________________________________________\n",
            "block13_sepconv1 (SeparableConv (None, 14, 14, 728)  536536      block13_sepconv1_act[0][0]       \n",
            "__________________________________________________________________________________________________\n",
            "block13_sepconv1_bn (BatchNorma (None, 14, 14, 728)  2912        block13_sepconv1[0][0]           \n",
            "__________________________________________________________________________________________________\n",
            "block13_sepconv2_act (Activatio (None, 14, 14, 728)  0           block13_sepconv1_bn[0][0]        \n",
            "__________________________________________________________________________________________________\n",
            "block13_sepconv2 (SeparableConv (None, 14, 14, 1024) 752024      block13_sepconv2_act[0][0]       \n",
            "__________________________________________________________________________________________________\n",
            "block13_sepconv2_bn (BatchNorma (None, 14, 14, 1024) 4096        block13_sepconv2[0][0]           \n",
            "__________________________________________________________________________________________________\n",
            "conv2d_3 (Conv2D)               (None, 7, 7, 1024)   745472      add_10[0][0]                     \n",
            "__________________________________________________________________________________________________\n",
            "block13_pool (MaxPooling2D)     (None, 7, 7, 1024)   0           block13_sepconv2_bn[0][0]        \n",
            "__________________________________________________________________________________________________\n",
            "batch_normalization_3 (BatchNor (None, 7, 7, 1024)   4096        conv2d_3[0][0]                   \n",
            "__________________________________________________________________________________________________\n",
            "add_11 (Add)                    (None, 7, 7, 1024)   0           block13_pool[0][0]               \n",
            "                                                                 batch_normalization_3[0][0]      \n",
            "__________________________________________________________________________________________________\n",
            "block14_sepconv1 (SeparableConv (None, 7, 7, 1536)   1582080     add_11[0][0]                     \n",
            "__________________________________________________________________________________________________\n",
            "block14_sepconv1_bn (BatchNorma (None, 7, 7, 1536)   6144        block14_sepconv1[0][0]           \n",
            "__________________________________________________________________________________________________\n",
            "block14_sepconv1_act (Activatio (None, 7, 7, 1536)   0           block14_sepconv1_bn[0][0]        \n",
            "__________________________________________________________________________________________________\n",
            "block14_sepconv2 (SeparableConv (None, 7, 7, 2048)   3159552     block14_sepconv1_act[0][0]       \n",
            "__________________________________________________________________________________________________\n",
            "block14_sepconv2_bn (BatchNorma (None, 7, 7, 2048)   8192        block14_sepconv2[0][0]           \n",
            "__________________________________________________________________________________________________\n",
            "block14_sepconv2_act (Activatio (None, 7, 7, 2048)   0           block14_sepconv2_bn[0][0]        \n",
            "==================================================================================================\n",
            "Total params: 20,861,480\n",
            "Trainable params: 20,806,952\n",
            "Non-trainable params: 54,528\n",
            "__________________________________________________________________________________________________\n"
          ],
          "name": "stdout"
        }
      ]
    },
    {
      "cell_type": "code",
      "metadata": {
        "colab": {
          "base_uri": "https://localhost:8080/"
        },
        "id": "CoAMbZ_t8Tdo",
        "outputId": "60acdcfe-a9f1-459f-d984-03f7ea93bc19"
      },
      "source": [
        "train_generator = image_gen.flow_from_dataframe(\n",
        "                              dataframe=X_train_flow_df,\n",
        "                              x_col=\"File_Path\",\n",
        "                              y_col=\"label\",\n",
        "                              subset=\"training\",\n",
        "                              batch_size=32,\n",
        "                              seed=42,\n",
        "                              shuffle=True,\n",
        "                              class_mode=\"categorical\",\n",
        "                              target_size=input_shape[:2],\n",
        "                              color_mode = 'rgb')\n",
        "\n"
      ],
      "execution_count": null,
      "outputs": [
        {
          "output_type": "stream",
          "text": [
            "Found 1263 validated image filenames belonging to 8 classes.\n"
          ],
          "name": "stdout"
        }
      ]
    },
    {
      "cell_type": "code",
      "metadata": {
        "colab": {
          "base_uri": "https://localhost:8080/"
        },
        "id": "pNk65pknoicf",
        "outputId": "fa6fa927-edab-4baf-d2e8-bf82d637b634"
      },
      "source": [
        "valid_generator=image_gen.flow_from_dataframe(\n",
        "                              dataframe=X_train_flow_df,\n",
        "                              x_col=\"File_Path\",\n",
        "                              y_col=\"label\",\n",
        "                              subset=\"validation\",\n",
        "                              batch_size=32,\n",
        "                              seed=42,\n",
        "                              shuffle=True,\n",
        "                              class_mode=\"categorical\",\n",
        "                              target_size=input_shape[:2],\n",
        "                              color_mode = 'rgb')\n"
      ],
      "execution_count": null,
      "outputs": [
        {
          "output_type": "stream",
          "text": [
            "Found 315 validated image filenames belonging to 8 classes.\n"
          ],
          "name": "stdout"
        }
      ]
    },
    {
      "cell_type": "code",
      "metadata": {
        "id": "B8Og9WnNVQvb"
      },
      "source": [
        "xception = Xception(input_shape=input_shape, weights='imagenet', include_top=False)\n",
        "\n",
        "# train = False\n",
        "# # for i,layer in enumerate(xception.layers):\n",
        "# #     layer.trainable = train\n",
        "# #     if layer.name == 'add_2':\n",
        "# #       train = True\n",
        "# #     if layer.name == 'block5_sepconv3_bn':\n",
        "# #       drop = i\n",
        "\n",
        "# for layer in xception.layers[-16:]:\n",
        "#   layer.trainable = True\n",
        "    \n",
        "for layer in xception.layers:\n",
        "  layer.trainable = True\n",
        "\n",
        "# # for layer in xception.layers[-8:]:\n",
        "# #   layer.trainable = True\n",
        "\n"
      ],
      "execution_count": null,
      "outputs": []
    },
    {
      "cell_type": "code",
      "metadata": {
        "id": "n6mXny2_VjqK"
      },
      "source": [
        "x = Dropout(0.8)(xception.output)\n",
        "x = Flatten()(xception.output)\n",
        "x = Dropout(0.4)(x)\n",
        "prediction = Dense(8, activation='softmax')(x)\n"
      ],
      "execution_count": null,
      "outputs": []
    },
    {
      "cell_type": "code",
      "metadata": {
        "id": "EuQ_0UyiVtj9"
      },
      "source": [
        "model = Model(inputs=xception.input, outputs=prediction)\n"
      ],
      "execution_count": null,
      "outputs": []
    },
    {
      "cell_type": "code",
      "metadata": {
        "id": "2pfWGgXQqDGW"
      },
      "source": [
        "# cnn1 = Sequential([\n",
        "#     Conv2D(8, kernel_size=(3, 3), activation='relu',padding='same',input_shape=input_shape),\n",
        "#     MaxPool2D(pool_size=(2, 2),strides=2),\n",
        "#     Conv2D(16, kernel_size=(5, 5), activation='relu'),\n",
        "#     MaxPool2D(pool_size=(2, 2),strides=2),\n",
        "#     Flatten(),\n",
        "#     Dense(120, activation='relu'),\n",
        "#     Dense(84, activation='relu'),\n",
        "#     Dense(9, activation='softmax')\n",
        "# ])\n",
        "\n",
        "cnn1 = Sequential([\n",
        "    Conv2D(16, kernel_size=(11, 11), activation='relu',input_shape=input_shape),\n",
        "    MaxPool2D(pool_size=(2, 2),strides=2),\n",
        "    Conv2D(16, kernel_size=(11, 11), activation='relu',input_shape=input_shape),\n",
        "    MaxPool2D(pool_size=(2, 2),strides=2),\n",
        "    Conv2D(32, kernel_size=(9, 9), activation='relu'),\n",
        "    MaxPool2D(pool_size=(2, 2),strides=2),\n",
        "    Conv2D(64, kernel_size=(7, 7), activation='relu'),\n",
        "    MaxPool2D(pool_size=(2, 2),strides=2),\n",
        "    Conv2D(128, kernel_size=(5, 5), activation='relu'),\n",
        "    MaxPool2D(pool_size=(2, 2),strides=2),\n",
        "    Flatten(),\n",
        "    Dense(512, activation='relu'),\n",
        "    Dense(8, activation='softmax')\n",
        "])"
      ],
      "execution_count": null,
      "outputs": []
    },
    {
      "cell_type": "code",
      "metadata": {
        "id": "1VEvEUQlOpJ0"
      },
      "source": [
        "metrics = [\n",
        "      keras.metrics.TruePositives(name='tp'),\n",
        "      keras.metrics.FalsePositives(name='fp'),\n",
        "      keras.metrics.TrueNegatives(name='tn'),\n",
        "      keras.metrics.FalseNegatives(name='fn'), \n",
        "      keras.metrics.BinaryAccuracy(name='accuracy'),\n",
        "      keras.metrics.Precision(name='precision'),\n",
        "      keras.metrics.Recall(name='recall'),\n",
        "      keras.metrics.AUC(name='auc'),\n",
        "      keras.metrics.AUC(name='prc', curve='PR'), # precision-recall curve\n",
        "]"
      ],
      "execution_count": null,
      "outputs": []
    },
    {
      "cell_type": "code",
      "metadata": {
        "id": "-o4dX-BcVzkL"
      },
      "source": [
        "model.compile(\n",
        "  loss='categorical_crossentropy',\n",
        "  optimizer= 'Adam',#keras.optimizers.Adam(learning_rate = 0.001),\n",
        "  metrics= metrics\n",
        ")"
      ],
      "execution_count": null,
      "outputs": []
    },
    {
      "cell_type": "code",
      "metadata": {
        "id": "RrPiGyXTqFGX"
      },
      "source": [
        "from tensorflow.keras.callbacks import EarlyStopping, ModelCheckpoint"
      ],
      "execution_count": null,
      "outputs": []
    },
    {
      "cell_type": "code",
      "metadata": {
        "id": "qNDz2NuvqLl9"
      },
      "source": [
        "early_stop = EarlyStopping(monitor = 'val_auc' ,mode = 'max',patience=2)"
      ],
      "execution_count": null,
      "outputs": []
    },
    {
      "cell_type": "code",
      "metadata": {
        "colab": {
          "base_uri": "https://localhost:8080/"
        },
        "id": "6f-rI5GNqOv3",
        "outputId": "fbe46950-7f23-4753-8ea8-d1b83b0801b1"
      },
      "source": [
        "results = model.fit_generator(train_generator,epochs=25,\n",
        "                              validation_data = valid_generator, callbacks=[early_stop])\n"
      ],
      "execution_count": null,
      "outputs": [
        {
          "output_type": "stream",
          "text": [
            "/usr/local/lib/python3.7/dist-packages/keras/engine/training.py:1972: UserWarning: `Model.fit_generator` is deprecated and will be removed in a future version. Please use `Model.fit`, which supports generators.\n",
            "  warnings.warn('`Model.fit_generator` is deprecated and '\n"
          ],
          "name": "stderr"
        },
        {
          "output_type": "stream",
          "text": [
            "Epoch 1/25\n",
            "40/40 [==============================] - 884s 22s/step - loss: 2.1482 - tp: 5.0000 - fp: 33.0000 - tn: 8808.0000 - fn: 1258.0000 - accuracy: 0.8722 - precision: 0.1316 - recall: 0.0040 - auc: 0.6263 - prc: 0.1808 - val_loss: 3.4364 - val_tp: 71.0000 - val_fp: 189.0000 - val_tn: 2016.0000 - val_fn: 244.0000 - val_accuracy: 0.8282 - val_precision: 0.2731 - val_recall: 0.2254 - val_auc: 0.6620 - val_prc: 0.2042\n",
            "Epoch 2/25\n",
            "40/40 [==============================] - 870s 22s/step - loss: 1.8487 - tp: 25.0000 - fp: 43.0000 - tn: 8798.0000 - fn: 1238.0000 - accuracy: 0.8732 - precision: 0.3676 - recall: 0.0198 - auc: 0.7228 - prc: 0.2573 - val_loss: 2.4048 - val_tp: 57.0000 - val_fp: 116.0000 - val_tn: 2089.0000 - val_fn: 258.0000 - val_accuracy: 0.8516 - val_precision: 0.3295 - val_recall: 0.1810 - val_auc: 0.7240 - val_prc: 0.2415\n",
            "Epoch 3/25\n",
            "40/40 [==============================] - 875s 22s/step - loss: 1.6359 - tp: 194.0000 - fp: 102.0000 - tn: 8739.0000 - fn: 1069.0000 - accuracy: 0.8841 - precision: 0.6554 - recall: 0.1536 - auc: 0.7947 - prc: 0.4037 - val_loss: 1.8818 - val_tp: 48.0000 - val_fp: 54.0000 - val_tn: 2151.0000 - val_fn: 267.0000 - val_accuracy: 0.8726 - val_precision: 0.4706 - val_recall: 0.1524 - val_auc: 0.7679 - val_prc: 0.3627\n",
            "Epoch 4/25\n",
            "40/40 [==============================] - 882s 22s/step - loss: 1.3783 - tp: 385.0000 - fp: 137.0000 - tn: 8704.0000 - fn: 878.0000 - accuracy: 0.8995 - precision: 0.7375 - recall: 0.3048 - auc: 0.8571 - prc: 0.5616 - val_loss: 1.7203 - val_tp: 51.0000 - val_fp: 32.0000 - val_tn: 2173.0000 - val_fn: 264.0000 - val_accuracy: 0.8825 - val_precision: 0.6145 - val_recall: 0.1619 - val_auc: 0.7696 - val_prc: 0.3919\n",
            "Epoch 5/25\n",
            "40/40 [==============================] - 881s 22s/step - loss: 1.1970 - tp: 500.0000 - fp: 152.0000 - tn: 8689.0000 - fn: 763.0000 - accuracy: 0.9094 - precision: 0.7669 - recall: 0.3959 - auc: 0.8952 - prc: 0.6486 - val_loss: 3.7901 - val_tp: 79.0000 - val_fp: 182.0000 - val_tn: 2023.0000 - val_fn: 236.0000 - val_accuracy: 0.8341 - val_precision: 0.3027 - val_recall: 0.2508 - val_auc: 0.6927 - val_prc: 0.3158\n",
            "Epoch 6/25\n",
            "40/40 [==============================] - 894s 22s/step - loss: 1.1138 - tp: 587.0000 - fp: 175.0000 - tn: 8666.0000 - fn: 676.0000 - accuracy: 0.9158 - precision: 0.7703 - recall: 0.4648 - auc: 0.9100 - prc: 0.6920 - val_loss: 2.1878 - val_tp: 84.0000 - val_fp: 117.0000 - val_tn: 2088.0000 - val_fn: 231.0000 - val_accuracy: 0.8619 - val_precision: 0.4179 - val_recall: 0.2667 - val_auc: 0.7713 - val_prc: 0.3436\n",
            "Epoch 7/25\n",
            "40/40 [==============================] - 883s 22s/step - loss: 0.8775 - tp: 721.0000 - fp: 154.0000 - tn: 8687.0000 - fn: 542.0000 - accuracy: 0.9311 - precision: 0.8240 - recall: 0.5709 - auc: 0.9446 - prc: 0.7942 - val_loss: 3.4404 - val_tp: 155.0000 - val_fp: 150.0000 - val_tn: 2055.0000 - val_fn: 160.0000 - val_accuracy: 0.8770 - val_precision: 0.5082 - val_recall: 0.4921 - val_auc: 0.7928 - val_prc: 0.4557\n",
            "Epoch 8/25\n",
            "40/40 [==============================] - 883s 22s/step - loss: 0.8547 - tp: 756.0000 - fp: 141.0000 - tn: 8700.0000 - fn: 507.0000 - accuracy: 0.9359 - precision: 0.8428 - recall: 0.5986 - auc: 0.9470 - prc: 0.8040 - val_loss: 2.5749 - val_tp: 115.0000 - val_fp: 138.0000 - val_tn: 2067.0000 - val_fn: 200.0000 - val_accuracy: 0.8659 - val_precision: 0.4545 - val_recall: 0.3651 - val_auc: 0.7654 - val_prc: 0.4238\n",
            "Epoch 9/25\n",
            "40/40 [==============================] - 888s 22s/step - loss: 0.6596 - tp: 876.0000 - fp: 132.0000 - tn: 8709.0000 - fn: 387.0000 - accuracy: 0.9486 - precision: 0.8690 - recall: 0.6936 - auc: 0.9678 - prc: 0.8713 - val_loss: 2.9320 - val_tp: 136.0000 - val_fp: 151.0000 - val_tn: 2054.0000 - val_fn: 179.0000 - val_accuracy: 0.8690 - val_precision: 0.4739 - val_recall: 0.4317 - val_auc: 0.7975 - val_prc: 0.4635\n",
            "Epoch 10/25\n",
            "40/40 [==============================] - 895s 22s/step - loss: 0.6157 - tp: 919.0000 - fp: 126.0000 - tn: 8715.0000 - fn: 344.0000 - accuracy: 0.9535 - precision: 0.8794 - recall: 0.7276 - auc: 0.9711 - prc: 0.8862 - val_loss: 3.4288 - val_tp: 142.0000 - val_fp: 144.0000 - val_tn: 2061.0000 - val_fn: 173.0000 - val_accuracy: 0.8742 - val_precision: 0.4965 - val_recall: 0.4508 - val_auc: 0.7843 - val_prc: 0.4570\n",
            "Epoch 11/25\n",
            "40/40 [==============================] - 890s 22s/step - loss: 0.6252 - tp: 904.0000 - fp: 130.0000 - tn: 8711.0000 - fn: 359.0000 - accuracy: 0.9516 - precision: 0.8743 - recall: 0.7158 - auc: 0.9695 - prc: 0.8801 - val_loss: 1.2990 - val_tp: 192.0000 - val_fp: 69.0000 - val_tn: 2136.0000 - val_fn: 123.0000 - val_accuracy: 0.9238 - val_precision: 0.7356 - val_recall: 0.6095 - val_auc: 0.9117 - val_prc: 0.7213\n",
            "Epoch 12/25\n",
            "40/40 [==============================] - 888s 22s/step - loss: 0.5136 - tp: 986.0000 - fp: 100.0000 - tn: 8741.0000 - fn: 277.0000 - accuracy: 0.9627 - precision: 0.9079 - recall: 0.7807 - auc: 0.9789 - prc: 0.9144 - val_loss: 2.5753 - val_tp: 161.0000 - val_fp: 121.0000 - val_tn: 2084.0000 - val_fn: 154.0000 - val_accuracy: 0.8909 - val_precision: 0.5709 - val_recall: 0.5111 - val_auc: 0.8302 - val_prc: 0.5264\n",
            "Epoch 13/25\n",
            "40/40 [==============================] - 885s 22s/step - loss: 0.5717 - tp: 964.0000 - fp: 133.0000 - tn: 8708.0000 - fn: 299.0000 - accuracy: 0.9572 - precision: 0.8788 - recall: 0.7633 - auc: 0.9735 - prc: 0.8946 - val_loss: 5.2246 - val_tp: 128.0000 - val_fp: 164.0000 - val_tn: 2041.0000 - val_fn: 187.0000 - val_accuracy: 0.8607 - val_precision: 0.4384 - val_recall: 0.4063 - val_auc: 0.7279 - val_prc: 0.3744\n"
          ],
          "name": "stdout"
        }
      ]
    },
    {
      "cell_type": "code",
      "metadata": {
        "id": "tycjiArmqpzp"
      },
      "source": [
        "losses = pd.DataFrame(results.history)"
      ],
      "execution_count": null,
      "outputs": []
    },
    {
      "cell_type": "code",
      "metadata": {
        "id": "zAYPTfl2tSS8",
        "colab": {
          "base_uri": "https://localhost:8080/",
          "height": 282
        },
        "outputId": "2c3bd26d-3c4b-4a1b-ab9f-cdddcec5c390"
      },
      "source": [
        "losses[['accuracy','val_accuracy']].plot()\n"
      ],
      "execution_count": null,
      "outputs": [
        {
          "output_type": "execute_result",
          "data": {
            "text/plain": [
              "<matplotlib.axes._subplots.AxesSubplot at 0x7f7f96a91750>"
            ]
          },
          "metadata": {},
          "execution_count": 47
        },
        {
          "output_type": "display_data",
          "data": {
            "image/png": "[encoded data removed]",
            "text/plain": [
              "<Figure size 432x288 with 1 Axes>"
            ]
          },
          "metadata": {
            "needs_background": "light"
          }
        }
      ]
    },
    {
      "cell_type": "code",
      "metadata": {
        "id": "S_4_YvMVtVD7",
        "colab": {
          "base_uri": "https://localhost:8080/",
          "height": 282
        },
        "outputId": "f654a7ea-4ec8-481a-e149-ce116f0b920d"
      },
      "source": [
        "losses[['loss','val_loss']].plot()"
      ],
      "execution_count": null,
      "outputs": [
        {
          "output_type": "execute_result",
          "data": {
            "text/plain": [
              "<matplotlib.axes._subplots.AxesSubplot at 0x7f7f982bf090>"
            ]
          },
          "metadata": {},
          "execution_count": 48
        },
        {
          "output_type": "display_data",
          "data": {
            "image/png": "[encoded data removed]",
            "text/plain": [
              "<Figure size 432x288 with 1 Axes>"
            ]
          },
          "metadata": {
            "needs_background": "light"
          }
        }
      ]
    },
    {
      "cell_type": "code",
      "metadata": {
        "id": "8KantVeptY0q",
        "colab": {
          "base_uri": "https://localhost:8080/"
        },
        "outputId": "e719d62b-5cd7-440a-9c4d-4cbaff11c067"
      },
      "source": [
        "test_datagen=ImageDataGenerator(rescale=1./255., preprocessing_function = None)#gray_cvt)\n",
        " \n",
        "test_generator=test_datagen.flow_from_dataframe(\n",
        "                                            dataframe=X_test_flow_df,\n",
        "                                            directory=\"\",\n",
        "                                            x_col=\"File_Path\",\n",
        "                                            y_col='label',\n",
        "                                            batch_size=1,\n",
        "                                            seed=42,\n",
        "                                            shuffle=False,\n",
        "                                            class_mode='categorical',\n",
        "                                            target_size=input_shape[:2],\n",
        "                                            color_mode = 'rgb')"
      ],
      "execution_count": null,
      "outputs": [
        {
          "output_type": "stream",
          "text": [
            "Found 395 validated image filenames belonging to 8 classes.\n"
          ],
          "name": "stdout"
        }
      ]
    },
    {
      "cell_type": "code",
      "metadata": {
        "id": "fZfOLNzU2MoW",
        "colab": {
          "base_uri": "https://localhost:8080/"
        },
        "outputId": "40232b60-aa4b-4d17-81d6-55c63afea6c4"
      },
      "source": [
        "test_generator.reset()\n",
        "pred=model.predict(test_generator,verbose=1)"
      ],
      "execution_count": null,
      "outputs": [
        {
          "output_type": "stream",
          "text": [
            "395/395 [==============================] - 111s 279ms/step\n"
          ],
          "name": "stdout"
        }
      ]
    },
    {
      "cell_type": "code",
      "metadata": {
        "id": "UxU-9sio2aDZ",
        "colab": {
          "base_uri": "https://localhost:8080/"
        },
        "outputId": "2c951d7d-521b-414d-d719-c8970f74a1d8"
      },
      "source": [
        "model.evaluate(test_generator)"
      ],
      "execution_count": null,
      "outputs": [
        {
          "output_type": "stream",
          "text": [
            "395/395 [==============================] - 65s 163ms/step - loss: 5.0566 - tp: 164.0000 - fp: 206.0000 - tn: 2559.0000 - fn: 231.0000 - accuracy: 0.8617 - precision: 0.4432 - recall: 0.4152 - auc: 0.7215 - prc: 0.3846\n"
          ],
          "name": "stdout"
        },
        {
          "output_type": "execute_result",
          "data": {
            "text/plain": [
              "[5.056595325469971,\n",
              " 164.0,\n",
              " 206.0,\n",
              " 2559.0,\n",
              " 231.0,\n",
              " 0.8617088794708252,\n",
              " 0.44324323534965515,\n",
              " 0.41518986225128174,\n",
              " 0.721535861492157,\n",
              " 0.38459673523902893]"
            ]
          },
          "metadata": {},
          "execution_count": 51
        }
      ]
    },
    {
      "cell_type": "code",
      "metadata": {
        "id": "N2SazB7C3Lx2"
      },
      "source": [
        "predictions = pred > 0.5"
      ],
      "execution_count": null,
      "outputs": []
    },
    {
      "cell_type": "code",
      "metadata": {
        "id": "EupSBFMM2V41"
      },
      "source": [
        "from sklearn.metrics import classification_report,confusion_matrix\n"
      ],
      "execution_count": null,
      "outputs": []
    },
    {
      "cell_type": "code",
      "metadata": {
        "id": "SIUD3gGF2g4t",
        "colab": {
          "base_uri": "https://localhost:8080/"
        },
        "outputId": "c6233315-01fb-4c64-c338-9db07a371b2a"
      },
      "source": [
        "len(predictions), len(X_test_flow_df)"
      ],
      "execution_count": null,
      "outputs": [
        {
          "output_type": "execute_result",
          "data": {
            "text/plain": [
              "(395, 395)"
            ]
          },
          "metadata": {},
          "execution_count": 54
        }
      ]
    },
    {
      "cell_type": "code",
      "metadata": {
        "id": "AOjs_2NJsIWJ"
      },
      "source": [
        "b = predictions.argmax(axis=1)"
      ],
      "execution_count": null,
      "outputs": []
    },
    {
      "cell_type": "code",
      "metadata": {
        "id": "Jke7QkWDwK1L",
        "colab": {
          "base_uri": "https://localhost:8080/"
        },
        "outputId": "78473849-881a-4296-b621-a0ffd58db2c7"
      },
      "source": [
        "predictions.astype(int)"
      ],
      "execution_count": null,
      "outputs": [
        {
          "output_type": "execute_result",
          "data": {
            "text/plain": [
              "array([[0, 0, 0, ..., 0, 0, 0],\n",
              "       [0, 0, 0, ..., 0, 0, 0],\n",
              "       [0, 0, 0, ..., 0, 0, 0],\n",
              "       ...,\n",
              "       [0, 0, 0, ..., 0, 0, 0],\n",
              "       [0, 1, 0, ..., 0, 0, 0],\n",
              "       [0, 0, 0, ..., 0, 0, 0]])"
            ]
          },
          "metadata": {},
          "execution_count": 56
        }
      ]
    },
    {
      "cell_type": "code",
      "metadata": {
        "id": "5zONUAuY79C2",
        "colab": {
          "base_uri": "https://localhost:8080/"
        },
        "outputId": "16a08185-f2fe-4958-a266-2edffbf503f5"
      },
      "source": [
        "b"
      ],
      "execution_count": null,
      "outputs": [
        {
          "output_type": "execute_result",
          "data": {
            "text/plain": [
              "array([3, 3, 0, 3, 5, 3, 1, 0, 1, 5, 3, 0, 0, 4, 3, 3, 3, 0, 3, 4, 0, 3,\n",
              "       3, 3, 1, 3, 4, 3, 3, 4, 6, 3, 3, 3, 3, 6, 0, 0, 1, 0, 3, 0, 5, 3,\n",
              "       3, 3, 3, 0, 0, 3, 6, 0, 6, 3, 3, 4, 3, 3, 3, 0, 3, 6, 0, 4, 0, 3,\n",
              "       4, 0, 1, 3, 0, 0, 3, 3, 0, 3, 3, 3, 4, 0, 0, 3, 0, 3, 3, 0, 3, 6,\n",
              "       4, 3, 4, 3, 3, 3, 3, 3, 1, 4, 3, 3, 0, 3, 6, 1, 0, 0, 3, 0, 3, 0,\n",
              "       3, 3, 0, 3, 6, 4, 3, 3, 6, 3, 0, 3, 3, 3, 1, 3, 3, 3, 3, 1, 3, 5,\n",
              "       6, 3, 4, 3, 3, 3, 3, 4, 0, 3, 3, 3, 3, 0, 0, 3, 4, 3, 3, 4, 0, 3,\n",
              "       4, 3, 0, 3, 5, 3, 0, 3, 3, 0, 0, 6, 6, 3, 0, 3, 3, 0, 0, 3, 3, 3,\n",
              "       3, 1, 0, 3, 3, 3, 3, 1, 3, 3, 0, 3, 3, 3, 3, 3, 5, 1, 3, 3, 3, 0,\n",
              "       3, 0, 3, 3, 5, 2, 0, 4, 3, 3, 3, 5, 3, 0, 4, 1, 4, 0, 3, 3, 6, 6,\n",
              "       0, 3, 0, 5, 3, 3, 3, 0, 6, 0, 3, 3, 0, 3, 1, 3, 0, 0, 3, 3, 0, 3,\n",
              "       1, 0, 0, 3, 3, 3, 5, 0, 0, 1, 0, 0, 3, 4, 3, 3, 3, 0, 0, 3, 0, 0,\n",
              "       3, 3, 1, 0, 0, 1, 0, 2, 4, 3, 5, 4, 3, 1, 3, 0, 3, 0, 3, 3, 3, 0,\n",
              "       3, 1, 4, 3, 3, 3, 6, 3, 0, 3, 0, 6, 2, 3, 1, 3, 0, 3, 3, 3, 0, 3,\n",
              "       0, 4, 3, 0, 3, 4, 5, 3, 0, 3, 3, 3, 1, 3, 3, 6, 0, 3, 0, 5, 2, 3,\n",
              "       3, 4, 6, 0, 0, 3, 4, 5, 3, 0, 3, 0, 3, 6, 3, 3, 3, 3, 3, 3, 1, 0,\n",
              "       4, 4, 4, 3, 0, 3, 4, 4, 4, 4, 4, 3, 3, 0, 6, 0, 0, 0, 0, 3, 4, 0,\n",
              "       3, 2, 3, 3, 4, 3, 0, 0, 4, 3, 0, 0, 6, 3, 0, 4, 0, 3, 3, 1, 4])"
            ]
          },
          "metadata": {},
          "execution_count": 57
        }
      ]
    },
    {
      "cell_type": "code",
      "metadata": {
        "id": "gNdE1A0QwYqy",
        "colab": {
          "base_uri": "https://localhost:8080/"
        },
        "outputId": "7cf57519-ba12-4bf9-c9aa-2dc5493d330e"
      },
      "source": [
        "test_generator.class_indices"
      ],
      "execution_count": null,
      "outputs": [
        {
          "output_type": "execute_result",
          "data": {
            "text/plain": [
              "{'f15': 0,\n",
              " 'f16': 1,\n",
              " 'f18': 2,\n",
              " 'f22': 3,\n",
              " 'f35': 4,\n",
              " 'mig29': 5,\n",
              " 'p51': 6,\n",
              " 'rafale': 7}"
            ]
          },
          "metadata": {},
          "execution_count": 58
        }
      ]
    },
    {
      "cell_type": "code",
      "metadata": {
        "id": "2l1FQk94xeYT",
        "colab": {
          "base_uri": "https://localhost:8080/"
        },
        "outputId": "d76ddcec-e6f6-4a2a-db95-f34806c30343"
      },
      "source": [
        "y_test.unique()"
      ],
      "execution_count": null,
      "outputs": [
        {
          "output_type": "execute_result",
          "data": {
            "text/plain": [
              "array(['f35', 'f22', 'p51', 'mig29', 'f16', 'f15', 'f18', 'rafale'],\n",
              "      dtype=object)"
            ]
          },
          "metadata": {},
          "execution_count": 59
        }
      ]
    },
    {
      "cell_type": "code",
      "metadata": {
        "id": "L1S7rirg2loq"
      },
      "source": [
        "labels = (train_generator.class_indices)\n",
        "labels = dict((v,k) for k,v in labels.items())"
      ],
      "execution_count": null,
      "outputs": []
    },
    {
      "cell_type": "code",
      "metadata": {
        "id": "ULVDaGreBhzi",
        "colab": {
          "base_uri": "https://localhost:8080/"
        },
        "outputId": "012da289-eac8-4f18-b741-bc5c3800278c"
      },
      "source": [
        "labels"
      ],
      "execution_count": null,
      "outputs": [
        {
          "output_type": "execute_result",
          "data": {
            "text/plain": [
              "{0: 'f15',\n",
              " 1: 'f16',\n",
              " 2: 'f18',\n",
              " 3: 'f22',\n",
              " 4: 'f35',\n",
              " 5: 'mig29',\n",
              " 6: 'p51',\n",
              " 7: 'rafale'}"
            ]
          },
          "metadata": {},
          "execution_count": 61
        }
      ]
    },
    {
      "cell_type": "code",
      "metadata": {
        "id": "0Sk2-w4U6Umk"
      },
      "source": [
        "predictions_class_list = [labels[val] for val in b]"
      ],
      "execution_count": null,
      "outputs": []
    },
    {
      "cell_type": "code",
      "metadata": {
        "id": "utpKwvfl65nB"
      },
      "source": [
        "predictions_class_df = pd.Series(predictions_class_list)"
      ],
      "execution_count": null,
      "outputs": []
    },
    {
      "cell_type": "code",
      "metadata": {
        "id": "gSUMfrI42RHj",
        "colab": {
          "base_uri": "https://localhost:8080/"
        },
        "outputId": "6af4cecd-128b-41aa-eaa0-2de68364860b"
      },
      "source": [
        "y_test.shape, predictions_class_df.shape"
      ],
      "execution_count": null,
      "outputs": [
        {
          "output_type": "execute_result",
          "data": {
            "text/plain": [
              "((395,), (395,))"
            ]
          },
          "metadata": {},
          "execution_count": 64
        }
      ]
    },
    {
      "cell_type": "code",
      "metadata": {
        "id": "wwrbM1JcA8ec",
        "colab": {
          "base_uri": "https://localhost:8080/",
          "height": 157
        },
        "outputId": "9cd0e443-fa91-4089-85a2-27167ee51102"
      },
      "source": [
        "classification_report(predictions_class_df, y_test)"
      ],
      "execution_count": null,
      "outputs": [
        {
          "output_type": "stream",
          "text": [
            "/usr/local/lib/python3.7/dist-packages/sklearn/metrics/_classification.py:1272: UndefinedMetricWarning: Recall and F-score are ill-defined and being set to 0.0 in labels with no true samples. Use `zero_division` parameter to control this behavior.\n",
            "  _warn_prf(average, modifier, msg_start, len(result))\n"
          ],
          "name": "stderr"
        },
        {
          "output_type": "execute_result",
          "data": {
            "application/vnd.google.colaboratory.intrinsic+json": {
              "type": "string"
            },
            "text/plain": [
              "'              precision    recall  f1-score   support\\n\\n         f15       0.47      0.18      0.26       100\\n         f16       0.62      0.75      0.68        24\\n         f18       0.00      0.00      0.00         5\\n         f22       0.93      0.30      0.45       189\\n         f35       0.47      0.88      0.61        41\\n       mig29       0.14      1.00      0.25        14\\n         p51       0.29      1.00      0.45        22\\n      rafale       0.00      0.00      0.00         0\\n\\n    accuracy                           0.42       395\\n   macro avg       0.37      0.51      0.34       395\\nweighted avg       0.67      0.42      0.42       395\\n'"
            ]
          },
          "metadata": {},
          "execution_count": 65
        }
      ]
    },
    {
      "cell_type": "code",
      "metadata": {
        "id": "h14sndp7BHtf",
        "colab": {
          "base_uri": "https://localhost:8080/"
        },
        "outputId": "6ba194a7-e55a-451e-8765-d8c7f313db18"
      },
      "source": [
        "confusion_matrix(predictions_class_df, y_test)"
      ],
      "execution_count": null,
      "outputs": [
        {
          "output_type": "execute_result",
          "data": {
            "text/plain": [
              "array([[18,  9,  5,  1, 13, 27, 25,  2],\n",
              "       [ 0, 18,  0,  0,  2,  0,  2,  2],\n",
              "       [ 0,  0,  0,  1,  1,  3,  0,  0],\n",
              "       [20,  2,  3, 56, 25, 55, 23,  5],\n",
              "       [ 0,  0,  0,  2, 36,  0,  3,  0],\n",
              "       [ 0,  0,  0,  0,  0, 14,  0,  0],\n",
              "       [ 0,  0,  0,  0,  0,  0, 22,  0],\n",
              "       [ 0,  0,  0,  0,  0,  0,  0,  0]])"
            ]
          },
          "metadata": {},
          "execution_count": 66
        }
      ]
    },
    {
      "cell_type": "code",
      "metadata": {
        "id": "CAm_ILKcBRqX",
        "colab": {
          "base_uri": "https://localhost:8080/",
          "height": 282
        },
        "outputId": "2013d206-b8b9-4dd0-c923-b3863e6f1af9"
      },
      "source": [
        "sns.heatmap(confusion_matrix(predictions_class_df, y_test), xticklabels = labels, yticklabels = labels)"
      ],
      "execution_count": null,
      "outputs": [
        {
          "output_type": "execute_result",
          "data": {
            "text/plain": [
              "<matplotlib.axes._subplots.AxesSubplot at 0x7f7f9829f650>"
            ]
          },
          "metadata": {},
          "execution_count": 67
        },
        {
          "output_type": "display_data",
          "data": {
            "image/png": "[encoded data removed]",
            "text/plain": [
              "<Figure size 432x288 with 2 Axes>"
            ]
          },
          "metadata": {
            "needs_background": "light"
          }
        }
      ]
    },
    {
      "cell_type": "code",
      "metadata": {
        "id": "EXyuehGuCzzW"
      },
      "source": [
        "\n"
      ],
      "execution_count": null,
      "outputs": []
    },
    {
      "cell_type": "code",
      "metadata": {
        "id": "3xA5tnYKxlwy"
      },
      "source": [
        ""
      ],
      "execution_count": null,
      "outputs": []
    }
  ]
}